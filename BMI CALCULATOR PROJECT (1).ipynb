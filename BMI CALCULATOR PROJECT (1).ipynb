{
 "cells": [
  {
   "cell_type": "markdown",
   "id": "178a6a32",
   "metadata": {},
   "source": [
    "# BMI CALCULATOR PROJECT\n"
   ]
  },
  {
   "cell_type": "code",
   "execution_count": 12,
   "id": "bd32ecaa",
   "metadata": {},
   "outputs": [
    {
     "name": "stdout",
     "output_type": "stream",
     "text": [
      "Enter your name: Samuel Nzubechukwu Agha\n",
      "Enter your weight in pounds: 65\n",
      "Enter your height in inches: 57\n",
      "14.064327485380117\n",
      "Samuel Nzubechukwu Agha, you are underweight!\n"
     ]
    }
   ],
   "source": [
    "name= input(\"Enter your name: \")\n",
    "\n",
    "weight= int(input(\"Enter your weight in pounds: \"))\n",
    "\n",
    "height= int(input(\"Enter your height in inches: \"))\n",
    "\n",
    "BMI = (weight * 703) / int((height * height))\n",
    "\n",
    "print(BMI)\n",
    "\n",
    "if BMI>0:\n",
    "    if (BMI<=18.5): \n",
    "        print(name + \", you are underweight!\")\n",
    "    elif (BMI<24.9): \n",
    "        print(name +\", you are normal weight!\")\n",
    "    elif (BMI<29.9): \n",
    "        print(name +\", you are overweight!\") \n",
    "    elif (BMI<34.9): \n",
    "        print(name + \", you are obese!\")\n",
    "    elif (BMI<39.9): \n",
    "        print(name + \", you are severely obese!\")\n",
    "    else:\n",
    "        print(\"Enter valid inputs\")"
   ]
  }
 ],
 "metadata": {
  "kernelspec": {
   "display_name": "Python 3 (ipykernel)",
   "language": "python",
   "name": "python3"
  },
  "language_info": {
   "codemirror_mode": {
    "name": "ipython",
    "version": 3
   },
   "file_extension": ".py",
   "mimetype": "text/x-python",
   "name": "python",
   "nbconvert_exporter": "python",
   "pygments_lexer": "ipython3",
   "version": "3.9.12"
  }
 },
 "nbformat": 4,
 "nbformat_minor": 5
}
